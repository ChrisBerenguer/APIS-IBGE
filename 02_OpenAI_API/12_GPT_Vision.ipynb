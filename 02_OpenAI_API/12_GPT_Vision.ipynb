{
 "cells": [
  {
   "cell_type": "code",
   "execution_count": 1,
   "id": "52f9300c",
   "metadata": {},
   "outputs": [],
   "source": [
    "import openai\n",
    "from dotenv import load_dotenv, find_dotenv\n",
    "\n",
    "\n",
    "_ = load_dotenv(find_dotenv())\n",
    "\n",
    "client = openai.Client()"
   ]
  },
  {
   "cell_type": "markdown",
   "id": "30564c77",
   "metadata": {},
   "source": [
    "Teste utilizando uma imagem com URL"
   ]
  },
  {
   "cell_type": "code",
   "execution_count": 4,
   "id": "dc88039d",
   "metadata": {},
   "outputs": [],
   "source": [
    "response = client.chat.completions.create(\n",
    "    model=\"gpt-4o-mini\",\n",
    "    messages=[\n",
    "        {\n",
    "            'role': 'user',\n",
    "            'content': [\n",
    "                {'type': 'text', 'text': 'descreva a imagem fornecida'},\n",
    "                {'type': 'image_url', 'image_url': {'url': 'https://upload.wikimedia.org/wikipedia/commons/thumb/d/dd/Gfp-wisconsin-madison-the-nature-boardwalk.jpg/2560px-Gfp-wisconsin-madison-the-nature-boardwalk.jpg'}}\n",
    "            ]\n",
    "\n",
    "        }\n",
    "    ]\n",
    ")"
   ]
  },
  {
   "cell_type": "code",
   "execution_count": 5,
   "id": "3f691b53",
   "metadata": {},
   "outputs": [
    {
     "name": "stdout",
     "output_type": "stream",
     "text": [
      "A imagem apresenta um cenário natural sereno, com um caminho de madeira que se estende através de um campo verde. O caminho parece ser uma passarela que leva a uma área de vegetação exuberante, onde se destacam gramíneas altas. Ao fundo, podem ser vistos arbustos e árvores em diferentes tons de verde, sob um céu azul salpicado de nuvens brancas suaves. A iluminação é clara, transmitindo uma sensação de tranquilidade e frescor. É uma paisagem ideal para caminhadas e conexão com a natureza.\n"
     ]
    }
   ],
   "source": [
    "print(response.choices[0].message.content)"
   ]
  },
  {
   "cell_type": "markdown",
   "id": "2243e478",
   "metadata": {},
   "source": [
    "Agora teste utilizando um carregamento do computador"
   ]
  },
  {
   "cell_type": "code",
   "execution_count": 1,
   "id": "9c35a0ae",
   "metadata": {},
   "outputs": [
    {
     "ename": "NameError",
     "evalue": "name 'client' is not defined",
     "output_type": "error",
     "traceback": [
      "\u001b[1;31m---------------------------------------------------------------------------\u001b[0m",
      "\u001b[1;31mNameError\u001b[0m                                 Traceback (most recent call last)",
      "Cell \u001b[1;32mIn[1], line 10\u001b[0m\n\u001b[0;32m      7\u001b[0m caminho_imagem \u001b[38;5;241m=\u001b[39m \u001b[38;5;124m'\u001b[39m\u001b[38;5;124mC:/Users/chris/OneDrive/Documentos/Asimov_Academy/AI_Agents/02_OpenAI_API/Explorando a API da OpenAI/arquivos/vision/celulas.jpg\u001b[39m\u001b[38;5;124m'\u001b[39m\n\u001b[0;32m      8\u001b[0m base_64_image \u001b[38;5;241m=\u001b[39m encode_image(caminho_imagem)\n\u001b[1;32m---> 10\u001b[0m response \u001b[38;5;241m=\u001b[39m \u001b[43mclient\u001b[49m\u001b[38;5;241m.\u001b[39mchat\u001b[38;5;241m.\u001b[39mcompletions\u001b[38;5;241m.\u001b[39mcreate(\n\u001b[0;32m     11\u001b[0m     model\u001b[38;5;241m=\u001b[39m\u001b[38;5;124m\"\u001b[39m\u001b[38;5;124mgpt-4o-mini\u001b[39m\u001b[38;5;124m\"\u001b[39m,\n\u001b[0;32m     12\u001b[0m     messages\u001b[38;5;241m=\u001b[39m[\n\u001b[0;32m     13\u001b[0m         {\n\u001b[0;32m     14\u001b[0m             \u001b[38;5;124m'\u001b[39m\u001b[38;5;124mrole\u001b[39m\u001b[38;5;124m'\u001b[39m: \u001b[38;5;124m'\u001b[39m\u001b[38;5;124muser\u001b[39m\u001b[38;5;124m'\u001b[39m,\n\u001b[0;32m     15\u001b[0m             \u001b[38;5;124m'\u001b[39m\u001b[38;5;124mcontent\u001b[39m\u001b[38;5;124m'\u001b[39m: [\n\u001b[0;32m     16\u001b[0m                 {\u001b[38;5;124m'\u001b[39m\u001b[38;5;124mtype\u001b[39m\u001b[38;5;124m'\u001b[39m: \u001b[38;5;124m'\u001b[39m\u001b[38;5;124mtext\u001b[39m\u001b[38;5;124m'\u001b[39m, \u001b[38;5;124m'\u001b[39m\u001b[38;5;124mtext\u001b[39m\u001b[38;5;124m'\u001b[39m: \u001b[38;5;124m'\u001b[39m\u001b[38;5;124mquantas celulas aparecem na imagem?\u001b[39m\u001b[38;5;124m'\u001b[39m},\n\u001b[0;32m     17\u001b[0m                 {\u001b[38;5;124m'\u001b[39m\u001b[38;5;124mtype\u001b[39m\u001b[38;5;124m'\u001b[39m: \u001b[38;5;124m'\u001b[39m\u001b[38;5;124mimage_url\u001b[39m\u001b[38;5;124m'\u001b[39m, \u001b[38;5;124m'\u001b[39m\u001b[38;5;124mimage_url\u001b[39m\u001b[38;5;124m'\u001b[39m: {\u001b[38;5;124m'\u001b[39m\u001b[38;5;124murl\u001b[39m\u001b[38;5;124m'\u001b[39m: \u001b[38;5;124mf\u001b[39m\u001b[38;5;124m'\u001b[39m\u001b[38;5;124mdata:image/jpg;base64,\u001b[39m\u001b[38;5;132;01m{\u001b[39;00mbase_64_image\u001b[38;5;132;01m}\u001b[39;00m\u001b[38;5;124m'\u001b[39m} }  \n\u001b[0;32m     18\u001b[0m                 ]\n\u001b[0;32m     19\u001b[0m \n\u001b[0;32m     20\u001b[0m         }\n\u001b[0;32m     21\u001b[0m     ],\n\u001b[0;32m     22\u001b[0m     max_tokens\u001b[38;5;241m=\u001b[39m\u001b[38;5;241m1000\u001b[39m\n\u001b[0;32m     23\u001b[0m )\n",
      "\u001b[1;31mNameError\u001b[0m: name 'client' is not defined"
     ]
    }
   ],
   "source": [
    "import base64 \n",
    "\n",
    "def encode_image(caminho_imagem):\n",
    "    with open(caminho_imagem, \"rb\") as image_file:\n",
    "        return base64.b64encode(image_file.read()).decode('utf-8')\n",
    "\n",
    "caminho_imagem = 'C:/Users/chris/OneDrive/Documentos/Asimov_Academy/AI_Agents/02_OpenAI_API/Explorando a API da OpenAI/arquivos/vision/celulas.jpg'\n",
    "base_64_image = encode_image(caminho_imagem)\n",
    "\n",
    "response = client.chat.completions.create(\n",
    "    model=\"gpt-4o-mini\",\n",
    "    messages=[\n",
    "        {\n",
    "            'role': 'user',\n",
    "            'content': [\n",
    "                {'type': 'text', 'text': 'quantas celulas aparecem na imagem?'},\n",
    "                {'type': 'image_url', 'image_url': {'url': f'data:image/jpg;base64,{base_64_image}'} }  \n",
    "                ]\n",
    "\n",
    "        }\n",
    "    ],\n",
    "    max_tokens=1000\n",
    ")"
   ]
  }
 ],
 "metadata": {
  "kernelspec": {
   "display_name": "venv",
   "language": "python",
   "name": "python3"
  },
  "language_info": {
   "codemirror_mode": {
    "name": "ipython",
    "version": 3
   },
   "file_extension": ".py",
   "mimetype": "text/x-python",
   "name": "python",
   "nbconvert_exporter": "python",
   "pygments_lexer": "ipython3",
   "version": "3.10.7"
  }
 },
 "nbformat": 4,
 "nbformat_minor": 5
}
