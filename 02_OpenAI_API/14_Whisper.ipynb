{
 "cells": [
  {
   "cell_type": "code",
   "execution_count": 1,
   "id": "50f2b6ec",
   "metadata": {},
   "outputs": [],
   "source": [
    "import openai\n",
    "from dotenv import load_dotenv, find_dotenv\n",
    "\n",
    "\n",
    "_ = load_dotenv(find_dotenv())\n",
    "\n",
    "client = openai.Client()"
   ]
  },
  {
   "cell_type": "code",
   "execution_count": 2,
   "id": "1868764c",
   "metadata": {},
   "outputs": [
    {
     "name": "stdout",
     "output_type": "stream",
     "text": [
      "Seja muito bem-vindo ou bem-vinda ao nosso curso completo de Python aqui da Zemove Academy. Eu e minha equipe ficamos muito felizes que vocês tenham escolhido iniciar no mundo da programação, especificamente com a linguagem Python, aqui com a gente. Pode ter certeza que a gente colocou muito carinho e muita dedicação para construir esse material. Além dos conhecimentos técnicos que a gente vai apresentar sobre a linguagem e programação em si, eu também coloquei grande parte da minha experiência e minha vivência para compartilhar com vocês ao longo desse treinamento. Para quem não me conhece ainda, meu nome é Rodrigo Soares Padeval e eu não sou programador de origem. Na verdade, eu me formei como engenheiro e eu utilizei a programação dentro da minha carreira no mercado financeiro como analista de dados. E essa é a grande mágica da programação. Vocês não precisam utilizá-la única e exclusivamente para desenvolver software. Na verdade, ela pode ser usada para o que vocês quiserem no dia a dia de vocês, muitas vezes como uma habilidade secundária. Ela é muito mais ampla e muito mais poderosa do que isso. Programação é, sem sombra de dúvidas, a habilidade do futuro. Tem gente que já compara e diz que a programação é o novo inglês. Ou seja, até anos atrás, era necessário que a gente tivesse inglês para poder entrar no mercado de trabalho. Hoje, com certeza, além do inglês, a gente tem que saber programar.\n"
     ]
    }
   ],
   "source": [
    "audio = open('/Users/chris/OneDrive/Documentos/Asimov_Academy/AI_Agents/02_OpenAI_API/audio_asimov.mp3','rb')\n",
    "\n",
    "transcricao = client.audio.transcriptions.create(\n",
    "    model='whisper-1',\n",
    "    file=audio,\n",
    "\n",
    ")\n",
    "\n",
    "print(transcricao.text)\n",
    "\n"
   ]
  },
  {
   "cell_type": "code",
   "execution_count": 5,
   "id": "456656ee",
   "metadata": {},
   "outputs": [
    {
     "name": "stdout",
     "output_type": "stream",
     "text": [
      "1\n",
      "00:00:01,000 --> 00:00:06,500\n",
      "Seja muito bem-vindo ou bem-vinda ao nosso curso completo de Python aqui da Asimov Academy.\n",
      "\n",
      "2\n",
      "00:00:06,500 --> 00:00:11,000\n",
      "Eu e minha equipe ficamos muito felizes que vocês tenham escolhido iniciar no mundo da programação,\n",
      "\n",
      "3\n",
      "00:00:11,000 --> 00:00:14,000\n",
      "especificamente com a linguagem Python, aqui com a gente.\n",
      "\n",
      "4\n",
      "00:00:14,000 --> 00:00:19,000\n",
      "Pode ter certeza que a gente colocou muito carinho e muita dedicação para construir esse material.\n",
      "\n",
      "5\n",
      "00:00:19,000 --> 00:00:24,000\n",
      "Além dos conhecimentos técnicos que a gente vai apresentar sobre a linguagem e programação em si,\n",
      "\n",
      "6\n",
      "00:00:24,000 --> 00:00:31,000\n",
      "eu também coloquei grande parte da minha experiência e minha vivência para compartilhar com vocês ao longo desse treinamento.\n",
      "\n",
      "7\n",
      "00:00:31,000 --> 00:00:36,000\n",
      "Para quem não me conhece ainda, meu nome é Rodrigo Soares Tadewal e eu não sou programador de origem.\n",
      "\n",
      "8\n",
      "00:00:36,000 --> 00:00:43,000\n",
      "Na verdade, eu me formei como engenheiro e utilizei a programação dentro da minha carreira no mercado financeiro como analista de dados.\n",
      "\n",
      "9\n",
      "00:00:43,000 --> 00:00:49,000\n",
      "E essa é a grande mágica da programação, vocês não precisam utilizar ela única e exclusivamente para desenvolver software.\n",
      "\n",
      "10\n",
      "00:00:49,000 --> 00:00:54,000\n",
      "Na verdade, ela pode ser usada para o que vocês quiserem no dia a dia de vocês, muitas vezes como uma habilidade secundária.\n",
      "\n",
      "11\n",
      "00:00:54,000 --> 00:00:57,000\n",
      "Ela é muito mais ampla e muito mais poderosa do que isso.\n",
      "\n",
      "12\n",
      "00:00:57,000 --> 00:01:00,000\n",
      "Programação é, sem sombra de dúvidas, a habilidade do futuro.\n",
      "\n",
      "13\n",
      "00:01:00,000 --> 00:01:03,000\n",
      "Tem gente que já compara e diz que a programação é o novo inglês.\n",
      "\n",
      "14\n",
      "00:01:03,000 --> 00:01:07,000\n",
      "Ou seja, até anos atrás, era necessário que a gente tivesse inglês para poder entrar no mercado de trabalho.\n",
      "\n",
      "15\n",
      "00:01:07,000 --> 00:01:11,000\n",
      "Hoje, com certeza, além do inglês, a gente tem que saber programar.\n",
      "\n",
      "\n",
      "\n"
     ]
    }
   ],
   "source": [
    "audio = open('/Users/chris/OneDrive/Documentos/Asimov_Academy/AI_Agents/02_OpenAI_API/audio_asimov.mp3','rb')\n",
    "\n",
    "transcricao = client.audio.transcriptions.create(\n",
    "    model='whisper-1',\n",
    "    file=audio,\n",
    "    prompt='Esta é uma aula da Asimov Academy, o professor se chama Rodrigo soares',\n",
    "    response_format='srt'\n",
    "\n",
    ")\n",
    "\n",
    "print(transcricao)\n",
    "\n"
   ]
  },
  {
   "cell_type": "markdown",
   "id": "5b10d599",
   "metadata": {},
   "source": [
    "Código Versão final"
   ]
  },
  {
   "cell_type": "code",
   "execution_count": null,
   "id": "ccae6adb",
   "metadata": {},
   "outputs": [],
   "source": [
    "audio = open('/Users/chris/OneDrive/Documentos/Asimov_Academy/AI_Agents/02_OpenAI_API/audio_asimov.mp3','rb')\n",
    "\n",
    "transcricao = client.audio.transcriptions.create(\n",
    "    model='whisper-1',\n",
    "    file=audio,\n",
    "    prompt='Esta é uma aula da Asimov Academy, o professor se chama Rodrigo soares',\n",
    "    response_format='srt',\n",
    "    language='pt'\n",
    "\n",
    ")\n",
    "\n",
    "print(transcricao)\n",
    "\n"
   ]
  }
 ],
 "metadata": {
  "kernelspec": {
   "display_name": "venv",
   "language": "python",
   "name": "python3"
  },
  "language_info": {
   "codemirror_mode": {
    "name": "ipython",
    "version": 3
   },
   "file_extension": ".py",
   "mimetype": "text/x-python",
   "name": "python",
   "nbconvert_exporter": "python",
   "pygments_lexer": "ipython3",
   "version": "3.10.7"
  }
 },
 "nbformat": 4,
 "nbformat_minor": 5
}
