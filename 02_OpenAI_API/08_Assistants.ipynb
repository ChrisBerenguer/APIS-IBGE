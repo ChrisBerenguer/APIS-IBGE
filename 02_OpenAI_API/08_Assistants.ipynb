{
 "cells": [
  {
   "cell_type": "code",
   "execution_count": 1,
   "id": "1b7b7b21",
   "metadata": {},
   "outputs": [],
   "source": [
    "import openai\n",
    "from dotenv import load_dotenv, find_dotenv\n",
    "\n",
    "\n",
    "_ = load_dotenv(find_dotenv())\n",
    "\n",
    "client = openai.Client()"
   ]
  },
  {
   "cell_type": "code",
   "execution_count": 2,
   "id": "ba34976f",
   "metadata": {},
   "outputs": [
    {
     "name": "stdout",
     "output_type": "stream",
     "text": [
      "1.95.1\n"
     ]
    }
   ],
   "source": [
    "import openai\n",
    "print(openai.__version__)"
   ]
  },
  {
   "cell_type": "code",
   "execution_count": 3,
   "id": "5be95e6c",
   "metadata": {},
   "outputs": [],
   "source": [
    "from openai import OpenAI\n",
    "from dotenv import load_dotenv\n",
    "import os\n",
    "\n",
    "load_dotenv()\n",
    "\n",
    "client = OpenAI(api_key=os.getenv(\"OPENAI_API_KEY\"))\n",
    "\n",
    "assistant = client.beta.assistants.create(\n",
    "    name=\"Tutor de Matemática\",\n",
    "    instructions=\"Você é um tutor pessoal de matemática. Escreva e execute códigos para responder perguntas matemáticas.\",\n",
    "    tools=[{\"type\": \"code_interpreter\"}],\n",
    "    model=\"gpt-4-1106-preview\"\n",
    ")\n"
   ]
  },
  {
   "cell_type": "markdown",
   "id": "7fd3c37c",
   "metadata": {},
   "source": [
    "Criação de um Thread"
   ]
  },
  {
   "cell_type": "code",
   "execution_count": 4,
   "id": "5039ad34",
   "metadata": {},
   "outputs": [
    {
     "name": "stderr",
     "output_type": "stream",
     "text": [
      "C:\\Users\\chris\\AppData\\Local\\Temp\\ipykernel_10844\\3600338518.py:1: DeprecationWarning: The Assistants API is deprecated in favor of the Responses API\n",
      "  thread = client.beta.threads.create()\n"
     ]
    }
   ],
   "source": [
    "thread = client.beta.threads.create()"
   ]
  },
  {
   "cell_type": "markdown",
   "id": "8418bef1",
   "metadata": {},
   "source": [
    "Adicionar mensagem à thread criada"
   ]
  },
  {
   "cell_type": "code",
   "execution_count": 7,
   "id": "64016e09",
   "metadata": {},
   "outputs": [
    {
     "name": "stderr",
     "output_type": "stream",
     "text": [
      "C:\\Users\\chris\\AppData\\Local\\Temp\\ipykernel_10844\\621382973.py:1: DeprecationWarning: The Assistants API is deprecated in favor of the Responses API\n",
      "  thread = client.beta.threads.create()\n",
      "C:\\Users\\chris\\AppData\\Local\\Temp\\ipykernel_10844\\621382973.py:3: DeprecationWarning: The Assistants API is deprecated in favor of the Responses API\n",
      "  message = client.beta.threads.messages.create(\n"
     ]
    }
   ],
   "source": [
    "thread = client.beta.threads.create()\n",
    "\n",
    "message = client.beta.threads.messages.create(\n",
    "    thread_id=thread.id,\n",
    "    role='user',\n",
    "    content='se eu jogar um dado de 8 lados 1000 vezes, qual a probabilidade de cair o número 5 400 vezes? Resolva com um código'\n",
    ")"
   ]
  },
  {
   "cell_type": "markdown",
   "id": "647bd969",
   "metadata": {},
   "source": [
    "Rodar a Thread no assistant"
   ]
  },
  {
   "cell_type": "code",
   "execution_count": 10,
   "id": "bcc68f42",
   "metadata": {},
   "outputs": [
    {
     "name": "stderr",
     "output_type": "stream",
     "text": [
      "C:\\Users\\chris\\AppData\\Local\\Temp\\ipykernel_10844\\594270314.py:1: DeprecationWarning: The Assistants API is deprecated in favor of the Responses API\n",
      "  run = client.beta.threads.runs.create(\n"
     ]
    }
   ],
   "source": [
    "run = client.beta.threads.runs.create(\n",
    "    thread_id=thread.id,\n",
    "    assistant_id=assistant.id,\n",
    "    instructions='O nome do usuário é Cole Palmer'\n",
    ")"
   ]
  },
  {
   "cell_type": "markdown",
   "id": "6719dffa",
   "metadata": {},
   "source": [
    "Aguardar a Thread rodar"
   ]
  },
  {
   "cell_type": "code",
   "execution_count": 15,
   "id": "54fa0f82",
   "metadata": {},
   "outputs": [
    {
     "name": "stderr",
     "output_type": "stream",
     "text": [
      "C:\\Users\\chris\\AppData\\Local\\Temp\\ipykernel_10844\\641565305.py:6: DeprecationWarning: The Assistants API is deprecated in favor of the Responses API\n",
      "  run = client.beta.threads.runs.retrieve(\n"
     ]
    }
   ],
   "source": [
    "\n",
    "import time\n",
    "\n",
    "\n",
    "while run.status in ['queued','in_progress', 'cancelling']:\n",
    "    time.sleep(1)\n",
    "    run = client.beta.threads.runs.retrieve(\n",
    "        thread_id=thread.id,\n",
    "        run_id=run.id\n",
    "    )\n"
   ]
  },
  {
   "cell_type": "code",
   "execution_count": 16,
   "id": "63598197",
   "metadata": {},
   "outputs": [
    {
     "data": {
      "text/plain": [
       "'completed'"
      ]
     },
     "execution_count": 16,
     "metadata": {},
     "output_type": "execute_result"
    }
   ],
   "source": [
    "run.status"
   ]
  },
  {
   "cell_type": "markdown",
   "id": "8c050b65",
   "metadata": {},
   "source": [
    "Verificar a Resposta"
   ]
  },
  {
   "cell_type": "code",
   "execution_count": 17,
   "id": "565200be",
   "metadata": {},
   "outputs": [
    {
     "name": "stderr",
     "output_type": "stream",
     "text": [
      "C:\\Users\\chris\\AppData\\Local\\Temp\\ipykernel_10844\\1184797989.py:2: DeprecationWarning: The Assistants API is deprecated in favor of the Responses API\n",
      "  messages= client.beta.threads.messages.list(\n"
     ]
    },
    {
     "name": "stdout",
     "output_type": "stream",
     "text": [
      "SyncCursorPage[Message](data=[Message(id='msg_Gxmf7QwC2nMzcTauIgHrs7KC', assistant_id='asst_xCb92lBBkWRhiPhGbDGpdXq3', attachments=[], completed_at=None, content=[TextContentBlock(text=Text(annotations=[], value='A probabilidade de obter o número 5 exatamente 400 vezes ao lançar um dado de 8 lados 1000 vezes é incrivelmente baixa, aproximadamente \\\\(4.62 \\\\times 10^{-106}\\\\). Isso é um número muito próximo de zero, o que indica que é um evento extremamente improvável.'), type='text')], created_at=1752452260, incomplete_at=None, incomplete_details=None, metadata={}, object='thread.message', role='assistant', run_id='run_R124P4G3djmpGQCKQgh2dAEm', status=None, thread_id='thread_Q6pjwphyIXlaZx4mAy5jaFIU'), Message(id='msg_MTJPe9yI3OaA1KfIC4ceyXvF', assistant_id=None, attachments=[], completed_at=None, content=[TextContentBlock(text=Text(annotations=[], value='se eu jogar um dado de 8 lados 1000 vezes, qual a probabilidade de cair o número 5 400 vezes? Resolva com um código'), type='text')], created_at=1752452172, incomplete_at=None, incomplete_details=None, metadata={}, object='thread.message', role='user', run_id=None, status=None, thread_id='thread_Q6pjwphyIXlaZx4mAy5jaFIU')], has_more=False, object='list', first_id='msg_Gxmf7QwC2nMzcTauIgHrs7KC', last_id='msg_MTJPe9yI3OaA1KfIC4ceyXvF')\n"
     ]
    }
   ],
   "source": [
    "if run.status =='completed':\n",
    "    messages= client.beta.threads.messages.list(\n",
    "        thread_id=thread.id\n",
    "    )\n",
    "\n",
    "    print(messages)\n",
    "\n",
    "else:\n",
    "    print('Erro', run.status)"
   ]
  },
  {
   "cell_type": "code",
   "execution_count": 18,
   "id": "f7456a22",
   "metadata": {},
   "outputs": [
    {
     "name": "stdout",
     "output_type": "stream",
     "text": [
      "A probabilidade de obter o número 5 exatamente 400 vezes ao lançar um dado de 8 lados 1000 vezes é incrivelmente baixa, aproximadamente \\(4.62 \\times 10^{-106}\\). Isso é um número muito próximo de zero, o que indica que é um evento extremamente improvável.\n"
     ]
    }
   ],
   "source": [
    "print(messages.data[0].content[0].text.value)"
   ]
  },
  {
   "cell_type": "markdown",
   "id": "3691b670",
   "metadata": {},
   "source": [
    "### Analisando os passos do modelo"
   ]
  },
  {
   "cell_type": "code",
   "execution_count": 19,
   "id": "5cee2757",
   "metadata": {},
   "outputs": [
    {
     "name": "stderr",
     "output_type": "stream",
     "text": [
      "C:\\Users\\chris\\AppData\\Local\\Temp\\ipykernel_10844\\687884520.py:1: DeprecationWarning: The Assistants API is deprecated in favor of the Responses API\n",
      "  run_steps= client.beta.threads.runs.steps.list(\n"
     ]
    }
   ],
   "source": [
    "run_steps= client.beta.threads.runs.steps.list(\n",
    "    thread_id=thread.id,\n",
    "    run_id=run.id\n",
    "    \n",
    ")\n",
    "\n",
    "\n"
   ]
  },
  {
   "cell_type": "code",
   "execution_count": 21,
   "id": "5c03200b",
   "metadata": {},
   "outputs": [
    {
     "data": {
      "text/plain": [
       "RunStep(id='step_l9bX1iwXSPQGQ5d2Qc1kpJIl', assistant_id='asst_xCb92lBBkWRhiPhGbDGpdXq3', cancelled_at=None, completed_at=1752452262, created_at=1752452260, expired_at=None, failed_at=None, last_error=None, metadata=None, object='thread.run.step', run_id='run_R124P4G3djmpGQCKQgh2dAEm', status='completed', step_details=MessageCreationStepDetails(message_creation=MessageCreation(message_id='msg_Gxmf7QwC2nMzcTauIgHrs7KC'), type='message_creation'), thread_id='thread_Q6pjwphyIXlaZx4mAy5jaFIU', type='message_creation', usage=Usage(completion_tokens=75, prompt_tokens=290, total_tokens=365, prompt_token_details={'cached_tokens': 0}, completion_tokens_details={'reasoning_tokens': 0}), expires_at=None)"
      ]
     },
     "execution_count": 21,
     "metadata": {},
     "output_type": "execute_result"
    }
   ],
   "source": [
    "run_steps.data[0]"
   ]
  },
  {
   "cell_type": "code",
   "execution_count": 24,
   "id": "e0e96a7f",
   "metadata": {},
   "outputs": [
    {
     "name": "stdout",
     "output_type": "stream",
     "text": [
      "=== Step: message_creation\n",
      "=== Step: tool_calls\n",
      "-----------\n",
      "from scipy.stats import binom\n",
      "\n",
      "# Definir os parâmetros do problema\n",
      "n = 1000  # número de jogadas\n",
      "k = 400   # número de sucessos desejado (obter um 5)\n",
      "p = 1/8   # probabilidade de obter um 5 em uma jogada de um dado de 8 lados\n",
      "\n",
      "# Calcula a probabilidade usando a função de massa de probabilidade da binomial\n",
      "probabilidade = binom.pmf(k, n, p)\n",
      "\n",
      "probabilidade\n",
      "-----------\n",
      "Result\n",
      "Nenhum log de saída disponível para este tool_call.\n"
     ]
    }
   ],
   "source": [
    "for step in run_steps.data:\n",
    "    print(\"=== Step:\", step.step_details.type)\n",
    "    if step.step_details.type == 'tool_calls':\n",
    "        for tool_call in step.step_details.tool_calls:\n",
    "            print(\"-----------\")\n",
    "            print(tool_call.code_interpreter.input)\n",
    "            print(\"-----------\")\n",
    "            print(\"Result\")\n",
    "            # Verifica se há outputs antes de acessar\n",
    "            if tool_call.code_interpreter.outputs and len(tool_call.code_interpreter.outputs) > 0:\n",
    "                print(tool_call.code_interpreter.outputs[0].logs)\n",
    "            else:\n",
    "                print(\"Nenhum log de saída disponível para este tool_call.\")"
   ]
  },
  {
   "cell_type": "code",
   "execution_count": 27,
   "id": "0fed525e",
   "metadata": {},
   "outputs": [
    {
     "name": "stdout",
     "output_type": "stream",
     "text": [
      "\n",
      "=== Step: tool_calls\n",
      "-----------\n",
      "from scipy.stats import binom\n",
      "\n",
      "# Definir os parâmetros do problema\n",
      "n = 1000  # número de jogadas\n",
      "k = 400   # número de sucessos desejado (obter um 5)\n",
      "p = 1/8   # probabilidade de obter um 5 em uma jogada de um dado de 8 lados\n",
      "\n",
      "# Calcula a probabilidade usando a função de massa de probabilidade da binomial\n",
      "probabilidade = binom.pmf(k, n, p)\n",
      "\n",
      "probabilidade\n",
      "-----------\n",
      "Result\n",
      "Nenhum log de saída disponível para este tool_call.\n",
      "A probabilidade de obter o número 5 exatamente 400 vezes ao lançar um dado de 8 lados 1000 vezes é incrivelmente baixa, aproximadamente \\(4.62 \\times 10^{-106}\\). Isso é um número muito próximo de zero, o que indica que é um evento extremamente improvável.\n",
      "\n",
      "=== Step: message_creation\n"
     ]
    },
    {
     "name": "stderr",
     "output_type": "stream",
     "text": [
      "C:\\Users\\chris\\AppData\\Local\\Temp\\ipykernel_10844\\3242390766.py:16: DeprecationWarning: The Assistants API is deprecated in favor of the Responses API\n",
      "  message = client.beta.threads.messages.retrieve(\n"
     ]
    },
    {
     "name": "stdout",
     "output_type": "stream",
     "text": [
      "A probabilidade de obter o número 5 exatamente 400 vezes ao lançar um dado de 8 lados 1000 vezes é incrivelmente baixa, aproximadamente \\(4.62 \\times 10^{-106}\\). Isso é um número muito próximo de zero, o que indica que é um evento extremamente improvável.\n"
     ]
    }
   ],
   "source": [
    "for step in run_steps.data[::-1]:\n",
    "    print(\"\\n=== Step:\", step.step_details.type)\n",
    "    if step.step_details.type == 'tool_calls':\n",
    "        for tool_call in step.step_details.tool_calls:\n",
    "            print(\"-----------\")\n",
    "            print(tool_call.code_interpreter.input)\n",
    "            print(\"-----------\")\n",
    "            print(\"Result\")\n",
    "            # Verifica se há outputs antes de acessar\n",
    "            if tool_call.code_interpreter.outputs and len(tool_call.code_interpreter.outputs) > 0:\n",
    "                print(tool_call.code_interpreter.outputs[0].logs)\n",
    "            else:\n",
    "                print(\"Nenhum log de saída disponível para este tool_call.\")\n",
    "\n",
    "    if step.step_details.type == 'message_creation':\n",
    "       message = client.beta.threads.messages.retrieve(\n",
    "            thread_id=thread.id,\n",
    "            message_id=step.step_details.message_creation.message_id)\n",
    "    print(message.content[0].text.value)"
   ]
  }
 ],
 "metadata": {
  "kernelspec": {
   "display_name": "venv",
   "language": "python",
   "name": "python3"
  },
  "language_info": {
   "codemirror_mode": {
    "name": "ipython",
    "version": 3
   },
   "file_extension": ".py",
   "mimetype": "text/x-python",
   "name": "python",
   "nbconvert_exporter": "python",
   "pygments_lexer": "ipython3",
   "version": "3.10.7"
  }
 },
 "nbformat": 4,
 "nbformat_minor": 5
}
