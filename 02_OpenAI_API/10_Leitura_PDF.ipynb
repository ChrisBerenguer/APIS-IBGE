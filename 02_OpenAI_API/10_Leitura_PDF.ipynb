{
 "cells": [
  {
   "cell_type": "code",
   "execution_count": 5,
   "id": "1b7b7b21",
   "metadata": {},
   "outputs": [],
   "source": [
    "import openai\n",
    "from dotenv import load_dotenv, find_dotenv\n",
    "import pprint\n",
    "\n",
    "\n",
    "# Carrega as variáveis de ambiente\n",
    "_ = load_dotenv(find_dotenv())\n",
    "\n",
    "# Cria o cliente da OpenAI\n",
    "client = OpenAI()\n"
   ]
  },
  {
   "cell_type": "code",
   "execution_count": 2,
   "id": "ba34976f",
   "metadata": {},
   "outputs": [
    {
     "name": "stdout",
     "output_type": "stream",
     "text": [
      "1.95.1\n"
     ]
    }
   ],
   "source": [
    "import openai\n",
    "print(openai.__version__)"
   ]
  },
  {
   "cell_type": "markdown",
   "id": "660e2811",
   "metadata": {},
   "source": [
    "### Criar o Assistant"
   ]
  },
  {
   "cell_type": "code",
   "execution_count": 20,
   "id": "53b09ecf",
   "metadata": {},
   "outputs": [
    {
     "name": "stderr",
     "output_type": "stream",
     "text": [
      "C:\\Users\\chris\\AppData\\Local\\Temp\\ipykernel_13484\\1271609810.py:21: DeprecationWarning: The Assistants API is deprecated in favor of the Responses API\n",
      "  thread = client.beta.threads.create()\n",
      "C:\\Users\\chris\\AppData\\Local\\Temp\\ipykernel_13484\\1271609810.py:24: DeprecationWarning: The Assistants API is deprecated in favor of the Responses API\n",
      "  client.beta.threads.messages.create(\n",
      "C:\\Users\\chris\\AppData\\Local\\Temp\\ipykernel_13484\\1271609810.py:31: DeprecationWarning: The Assistants API is deprecated in favor of the Responses API\n",
      "  run = client.beta.threads.runs.create(\n"
     ]
    },
    {
     "ename": "TypeError",
     "evalue": "Runs.create() got an unexpected keyword argument 'tool_resources'",
     "output_type": "error",
     "traceback": [
      "\u001b[1;31m---------------------------------------------------------------------------\u001b[0m",
      "\u001b[1;31mTypeError\u001b[0m                                 Traceback (most recent call last)",
      "Cell \u001b[1;32mIn[20], line 31\u001b[0m\n\u001b[0;32m     24\u001b[0m client\u001b[38;5;241m.\u001b[39mbeta\u001b[38;5;241m.\u001b[39mthreads\u001b[38;5;241m.\u001b[39mmessages\u001b[38;5;241m.\u001b[39mcreate(\n\u001b[0;32m     25\u001b[0m     thread_id\u001b[38;5;241m=\u001b[39mthread\u001b[38;5;241m.\u001b[39mid,\n\u001b[0;32m     26\u001b[0m     role\u001b[38;5;241m=\u001b[39m\u001b[38;5;124m\"\u001b[39m\u001b[38;5;124muser\u001b[39m\u001b[38;5;124m\"\u001b[39m,\n\u001b[0;32m     27\u001b[0m     content\u001b[38;5;241m=\u001b[39m\u001b[38;5;124m\"\u001b[39m\u001b[38;5;124mO que a apostila diz sobre embeddings?\u001b[39m\u001b[38;5;124m\"\u001b[39m\n\u001b[0;32m     28\u001b[0m )\n\u001b[0;32m     30\u001b[0m \u001b[38;5;66;03m# 5. Criar o run, agora associando o arquivo via 'tool_resources'\u001b[39;00m\n\u001b[1;32m---> 31\u001b[0m run \u001b[38;5;241m=\u001b[39m \u001b[43mclient\u001b[49m\u001b[38;5;241;43m.\u001b[39;49m\u001b[43mbeta\u001b[49m\u001b[38;5;241;43m.\u001b[39;49m\u001b[43mthreads\u001b[49m\u001b[38;5;241;43m.\u001b[39;49m\u001b[43mruns\u001b[49m\u001b[38;5;241;43m.\u001b[39;49m\u001b[43mcreate\u001b[49m\u001b[43m(\u001b[49m\n\u001b[0;32m     32\u001b[0m \u001b[43m    \u001b[49m\u001b[43mthread_id\u001b[49m\u001b[38;5;241;43m=\u001b[39;49m\u001b[43mthread\u001b[49m\u001b[38;5;241;43m.\u001b[39;49m\u001b[43mid\u001b[49m\u001b[43m,\u001b[49m\n\u001b[0;32m     33\u001b[0m \u001b[43m    \u001b[49m\u001b[43massistant_id\u001b[49m\u001b[38;5;241;43m=\u001b[39;49m\u001b[43massistant\u001b[49m\u001b[38;5;241;43m.\u001b[39;49m\u001b[43mid\u001b[49m\u001b[43m,\u001b[49m\n\u001b[0;32m     34\u001b[0m \u001b[43m    \u001b[49m\u001b[43mtool_resources\u001b[49m\u001b[38;5;241;43m=\u001b[39;49m\u001b[43m{\u001b[49m\n\u001b[0;32m     35\u001b[0m \u001b[43m        \u001b[49m\u001b[38;5;124;43m\"\u001b[39;49m\u001b[38;5;124;43mfile_search\u001b[39;49m\u001b[38;5;124;43m\"\u001b[39;49m\u001b[43m:\u001b[49m\u001b[43m \u001b[49m\u001b[43m{\u001b[49m\n\u001b[0;32m     36\u001b[0m \u001b[43m            \u001b[49m\u001b[38;5;124;43m\"\u001b[39;49m\u001b[38;5;124;43mfile_ids\u001b[39;49m\u001b[38;5;124;43m\"\u001b[39;49m\u001b[43m:\u001b[49m\u001b[43m \u001b[49m\u001b[43m[\u001b[49m\u001b[43muploaded_file\u001b[49m\u001b[38;5;241;43m.\u001b[39;49m\u001b[43mid\u001b[49m\u001b[43m]\u001b[49m\n\u001b[0;32m     37\u001b[0m \u001b[43m        \u001b[49m\u001b[43m}\u001b[49m\n\u001b[0;32m     38\u001b[0m \u001b[43m    \u001b[49m\u001b[43m}\u001b[49m\n\u001b[0;32m     39\u001b[0m \u001b[43m)\u001b[49m\n\u001b[0;32m     41\u001b[0m \u001b[38;5;66;03m# 6. Aguardar finalização da execução\u001b[39;00m\n\u001b[0;32m     42\u001b[0m \u001b[38;5;28;01mwhile\u001b[39;00m \u001b[38;5;28;01mTrue\u001b[39;00m:\n",
      "File \u001b[1;32mc:\\Users\\chris\\OneDrive\\Documentos\\Asimov_Academy\\AI_Agents\\venv\\lib\\site-packages\\typing_extensions.py:2956\u001b[0m, in \u001b[0;36mdeprecated.__call__.<locals>.wrapper\u001b[1;34m(*args, **kwargs)\u001b[0m\n\u001b[0;32m   2953\u001b[0m \u001b[38;5;129m@functools\u001b[39m\u001b[38;5;241m.\u001b[39mwraps(arg)\n\u001b[0;32m   2954\u001b[0m \u001b[38;5;28;01mdef\u001b[39;00m\u001b[38;5;250m \u001b[39m\u001b[38;5;21mwrapper\u001b[39m(\u001b[38;5;241m*\u001b[39margs, \u001b[38;5;241m*\u001b[39m\u001b[38;5;241m*\u001b[39mkwargs):\n\u001b[0;32m   2955\u001b[0m     warnings\u001b[38;5;241m.\u001b[39mwarn(msg, category\u001b[38;5;241m=\u001b[39mcategory, stacklevel\u001b[38;5;241m=\u001b[39mstacklevel \u001b[38;5;241m+\u001b[39m \u001b[38;5;241m1\u001b[39m)\n\u001b[1;32m-> 2956\u001b[0m     \u001b[38;5;28;01mreturn\u001b[39;00m arg(\u001b[38;5;241m*\u001b[39margs, \u001b[38;5;241m*\u001b[39m\u001b[38;5;241m*\u001b[39mkwargs)\n",
      "File \u001b[1;32mc:\\Users\\chris\\OneDrive\\Documentos\\Asimov_Academy\\AI_Agents\\venv\\lib\\site-packages\\openai\\_utils\\_utils.py:287\u001b[0m, in \u001b[0;36mrequired_args.<locals>.inner.<locals>.wrapper\u001b[1;34m(*args, **kwargs)\u001b[0m\n\u001b[0;32m    285\u001b[0m             msg \u001b[38;5;241m=\u001b[39m \u001b[38;5;124mf\u001b[39m\u001b[38;5;124m\"\u001b[39m\u001b[38;5;124mMissing required argument: \u001b[39m\u001b[38;5;132;01m{\u001b[39;00mquote(missing[\u001b[38;5;241m0\u001b[39m])\u001b[38;5;132;01m}\u001b[39;00m\u001b[38;5;124m\"\u001b[39m\n\u001b[0;32m    286\u001b[0m     \u001b[38;5;28;01mraise\u001b[39;00m \u001b[38;5;167;01mTypeError\u001b[39;00m(msg)\n\u001b[1;32m--> 287\u001b[0m \u001b[38;5;28;01mreturn\u001b[39;00m func(\u001b[38;5;241m*\u001b[39margs, \u001b[38;5;241m*\u001b[39m\u001b[38;5;241m*\u001b[39mkwargs)\n",
      "\u001b[1;31mTypeError\u001b[0m: Runs.create() got an unexpected keyword argument 'tool_resources'"
     ]
    }
   ],
   "source": [
    "from openai import OpenAI\n",
    "import time\n",
    "\n",
    "client = OpenAI()\n",
    "\n",
    "# 1. Upload do arquivo\n",
    "uploaded_file = client.files.create(\n",
    "    file=open(\"C:/Users/chris/OneDrive/Documentos/Asimov_Academy/AI_Agents/02_OpenAI_API/Explorando a API da OpenAI.pdf\", \"rb\"),\n",
    "    purpose=\"assistants\"\n",
    ")\n",
    "\n",
    "# 2. Criar assistente com file_search (não use mais 'retrieval')\n",
    "assistant = client.beta.assistants.create(\n",
    "    name=\"Ajuda com Apostila Asimov\",\n",
    "    instructions=\"Responda perguntas com base na apostila.\",\n",
    "    model=\"gpt-4-1106-preview\",\n",
    "    tools=[{\"type\": \"file_search\"}]\n",
    ")\n",
    "\n",
    "# 3. Criar um thread\n",
    "thread = client.beta.threads.create()\n",
    "\n",
    "# 4. Adicionar mensagem do usuário\n",
    "client.beta.threads.messages.create(\n",
    "    thread_id=thread.id,\n",
    "    role=\"user\",\n",
    "    content=\"O que a apostila diz sobre embeddings?\"\n",
    ")\n",
    "\n",
    "# 5. Criar o run, agora associando o arquivo via 'tool_resources'\n",
    "run = client.beta.threads.runs.create(\n",
    "    thread_id=thread.id,\n",
    "    assistant_id=assistant.id,\n",
    "    tool_resources={\n",
    "        \"file_search\": {\n",
    "            \"file_ids\": [uploaded_file.id]\n",
    "        }\n",
    "    }\n",
    ")\n",
    "\n",
    "# 6. Aguardar finalização da execução\n",
    "while True:\n",
    "    run_status = client.beta.threads.runs.retrieve(thread_id=thread.id, run_id=run.id)\n",
    "    if run_status.status == \"completed\":\n",
    "        break\n",
    "    elif run_status.status == \"failed\":\n",
    "        raise Exception(\"Execução falhou.\")\n",
    "    time.sleep(1)\n",
    "\n",
    "# 7. Exibir resposta\n",
    "messages = client.beta.threads.messages.list(thread_id=thread.id)\n",
    "for message in reversed(messages.data):\n",
    "    print(f\"{message.role.upper()}: {message.content[0].text.value}\")\n"
   ]
  },
  {
   "cell_type": "code",
   "execution_count": 8,
   "id": "8680495d",
   "metadata": {},
   "outputs": [
    {
     "ename": "AttributeError",
     "evalue": "'Beta' object has no attribute 'vector_stores'",
     "output_type": "error",
     "traceback": [
      "\u001b[1;31m---------------------------------------------------------------------------\u001b[0m",
      "\u001b[1;31mAttributeError\u001b[0m                            Traceback (most recent call last)",
      "Cell \u001b[1;32mIn[8], line 1\u001b[0m\n\u001b[1;32m----> 1\u001b[0m vector_store \u001b[38;5;241m=\u001b[39m \u001b[43mclient\u001b[49m\u001b[38;5;241;43m.\u001b[39;49m\u001b[43mbeta\u001b[49m\u001b[38;5;241;43m.\u001b[39;49m\u001b[43mvector_stores\u001b[49m\u001b[38;5;241m.\u001b[39mcreate(\n\u001b[0;32m      2\u001b[0m     name \u001b[38;5;241m=\u001b[39m \u001b[38;5;124m'\u001b[39m\u001b[38;5;124mApostilas curso Asimov\u001b[39m\u001b[38;5;124m'\u001b[39m\n\u001b[0;32m      3\u001b[0m )\n",
      "\u001b[1;31mAttributeError\u001b[0m: 'Beta' object has no attribute 'vector_stores'"
     ]
    }
   ],
   "source": [
    "vector_store = client.beta.vector_stores.create(\n",
    "    name = 'Apostilas curso Asimov'\n",
    ")"
   ]
  },
  {
   "cell_type": "code",
   "execution_count": null,
   "id": "50373237",
   "metadata": {},
   "outputs": [],
   "source": [
    "file = ['Users/chris/OneDrive/Documentos/Asimov_Academy/AI_Agents/02_OpenAI_API/Explorando a API da OpenAI.pdf']\n",
    "file_stream = [open(f, 'rb') for f in files]\n",
    "\n",
    "file_bacth = client.beta.vector_stores.file_batches.upload_and_poll(\n",
    "    vector_store_id = vector_store.id,\n",
    "    files=file_stream\n",
    ")"
   ]
  },
  {
   "cell_type": "code",
   "execution_count": 10,
   "id": "4c7d9a66",
   "metadata": {},
   "outputs": [],
   "source": [
    "file = client.files.create(\n",
    "    file=open('/Users/chris/OneDrive/Documentos/Asimov_Academy/AI_Agents/02_OpenAI_API/supermarket_sales.csv','rb'),\n",
    "    purpose='assistants'\n",
    ")\n"
   ]
  },
  {
   "cell_type": "code",
   "execution_count": 11,
   "id": "39f336a3",
   "metadata": {},
   "outputs": [
    {
     "data": {
      "text/plain": [
       "'file-3BQNZ5SwF2bWBwamSafRtu'"
      ]
     },
     "execution_count": 11,
     "metadata": {},
     "output_type": "execute_result"
    }
   ],
   "source": [
    "file.id"
   ]
  },
  {
   "cell_type": "code",
   "execution_count": 13,
   "id": "5be95e6c",
   "metadata": {},
   "outputs": [],
   "source": [
    "from openai import OpenAI\n",
    "from dotenv import load_dotenv\n",
    "import os\n",
    "\n",
    "load_dotenv()\n",
    "\n",
    "client = OpenAI(api_key=os.getenv(\"OPENAI_API_KEY\"))\n",
    "\n",
    "assistant = client.beta.assistants.create(\n",
    "    name=\"Analista Financeiro\",\n",
    "    instructions=\"Você é um analista financeiro de um supermercado. Você deve usar os dados  \\\n",
    "    .csv informados relativos às vendas do supermercado para realizar as suas análises\",\n",
    "    tools=[{\"type\": \"code_interpreter\"}],\n",
    "    tool_resources={'code_interpreter': {'file_ids':[file.id]}},\n",
    "    model=\"gpt-4-1106-preview\"\n",
    ")\n"
   ]
  },
  {
   "cell_type": "markdown",
   "id": "7fd3c37c",
   "metadata": {},
   "source": [
    "### Criação de um Thread"
   ]
  },
  {
   "cell_type": "code",
   "execution_count": 14,
   "id": "5039ad34",
   "metadata": {},
   "outputs": [
    {
     "name": "stderr",
     "output_type": "stream",
     "text": [
      "C:\\Users\\chris\\AppData\\Local\\Temp\\ipykernel_11892\\3600338518.py:1: DeprecationWarning: The Assistants API is deprecated in favor of the Responses API\n",
      "  thread = client.beta.threads.create()\n"
     ]
    }
   ],
   "source": [
    "thread = client.beta.threads.create()"
   ]
  },
  {
   "cell_type": "markdown",
   "id": "8418bef1",
   "metadata": {},
   "source": [
    "### Adicionar mensagem à thread criada"
   ]
  },
  {
   "cell_type": "code",
   "execution_count": 26,
   "id": "64016e09",
   "metadata": {},
   "outputs": [
    {
     "name": "stderr",
     "output_type": "stream",
     "text": [
      "C:\\Users\\chris\\AppData\\Local\\Temp\\ipykernel_11892\\877700454.py:4: DeprecationWarning: The Assistants API is deprecated in favor of the Responses API\n",
      "  message = client.beta.threads.messages.create(\n"
     ]
    }
   ],
   "source": [
    "texto_mensagem='Qual é o rating médio das vendas do supermercado?'\n",
    "texto_mensagem='Gere um gráfico de Pizza com o percentual dos meios de pagamento. O arquivo está em formato.csv'\n",
    "\n",
    "message = client.beta.threads.messages.create(\n",
    "    thread_id=thread.id,\n",
    "    role='user',\n",
    "    content=texto_mensagem)"
   ]
  },
  {
   "cell_type": "markdown",
   "id": "647bd969",
   "metadata": {},
   "source": [
    "### Rodar a Thread no assistant"
   ]
  },
  {
   "cell_type": "code",
   "execution_count": 27,
   "id": "bcc68f42",
   "metadata": {},
   "outputs": [
    {
     "name": "stderr",
     "output_type": "stream",
     "text": [
      "C:\\Users\\chris\\AppData\\Local\\Temp\\ipykernel_11892\\195674185.py:1: DeprecationWarning: The Assistants API is deprecated in favor of the Responses API\n",
      "  run = client.beta.threads.runs.create(\n"
     ]
    }
   ],
   "source": [
    "run = client.beta.threads.runs.create(\n",
    "    thread_id=thread.id,\n",
    "    assistant_id=assistant.id,\n",
    "    instructions='O nome do usuário é Usuário 9999'\n",
    ")"
   ]
  },
  {
   "cell_type": "markdown",
   "id": "6719dffa",
   "metadata": {},
   "source": [
    "### Aguardar a Thread rodar"
   ]
  },
  {
   "cell_type": "code",
   "execution_count": 28,
   "id": "54fa0f82",
   "metadata": {},
   "outputs": [
    {
     "name": "stderr",
     "output_type": "stream",
     "text": [
      "C:\\Users\\chris\\AppData\\Local\\Temp\\ipykernel_11892\\641565305.py:6: DeprecationWarning: The Assistants API is deprecated in favor of the Responses API\n",
      "  run = client.beta.threads.runs.retrieve(\n"
     ]
    }
   ],
   "source": [
    "\n",
    "import time\n",
    "\n",
    "\n",
    "while run.status in ['queued','in_progress', 'cancelling']:\n",
    "    time.sleep(1)\n",
    "    run = client.beta.threads.runs.retrieve(\n",
    "        thread_id=thread.id,\n",
    "        run_id=run.id\n",
    "    )\n"
   ]
  },
  {
   "cell_type": "code",
   "execution_count": 29,
   "id": "63598197",
   "metadata": {},
   "outputs": [
    {
     "data": {
      "text/plain": [
       "'completed'"
      ]
     },
     "execution_count": 29,
     "metadata": {},
     "output_type": "execute_result"
    }
   ],
   "source": [
    "run.status"
   ]
  },
  {
   "cell_type": "markdown",
   "id": "8c050b65",
   "metadata": {},
   "source": [
    "### Verificar a Resposta"
   ]
  },
  {
   "cell_type": "code",
   "execution_count": 30,
   "id": "565200be",
   "metadata": {},
   "outputs": [
    {
     "name": "stderr",
     "output_type": "stream",
     "text": [
      "C:\\Users\\chris\\AppData\\Local\\Temp\\ipykernel_11892\\1184797989.py:2: DeprecationWarning: The Assistants API is deprecated in favor of the Responses API\n",
      "  messages= client.beta.threads.messages.list(\n"
     ]
    },
    {
     "name": "stdout",
     "output_type": "stream",
     "text": [
      "SyncCursorPage[Message](data=[Message(id='msg_bi5WL1r69GDl9wCOdPwqgsFU', assistant_id='asst_AZjFVejnqkbbbxKLNvfDaRTY', attachments=[Attachment(file_id='file-Niag6ufdLtScadqgEpg5hd', tools=[CodeInterpreterTool(type='code_interpreter')])], completed_at=None, content=[ImageFileContentBlock(image_file=ImageFile(file_id='file-2GVLJMgoX5mYXQHhAGoN4t', detail=None), type='image_file'), TextContentBlock(text=Text(annotations=[FilePathAnnotation(end_index=275, file_path=FilePath(file_id='file-Niag6ufdLtScadqgEpg5hd'), start_index=211, text='sandbox:/mnt/data/supermarket_payment_distribution_pie_chart.png', type='file_path')], value='O gráfico de pizza com o percentual dos meios de pagamento foi gerado e salvo com sucesso. Você pode baixar o gráfico diretamente através do seguinte link:\\n\\n[Download do gráfico de pizza dos meios de pagamento](sandbox:/mnt/data/supermarket_payment_distribution_pie_chart.png)'), type='text')], created_at=1753147818, incomplete_at=None, incomplete_details=None, metadata={}, object='thread.message', role='assistant', run_id='run_osYwubScjayAO3mQZDaC6kll', status=None, thread_id='thread_0I8iIMLnba7XSu460UGHsZsU'), Message(id='msg_y44Whx52heYdeA0ln0zAIO6T', assistant_id='asst_AZjFVejnqkbbbxKLNvfDaRTY', attachments=[], completed_at=None, content=[TextContentBlock(text=Text(annotations=[], value='Posso criar um gráfico de pizza para você com o percentual de cada meio de pagamento utilizado nas vendas do supermercado. Vamos começar calculando a distribuição dos pagamentos e, em seguida, gerar o gráfico.'), type='text')], created_at=1753147804, incomplete_at=None, incomplete_details=None, metadata={}, object='thread.message', role='assistant', run_id='run_osYwubScjayAO3mQZDaC6kll', status=None, thread_id='thread_0I8iIMLnba7XSu460UGHsZsU'), Message(id='msg_4eldyBfu55cgCEPbZ9OzpKED', assistant_id=None, attachments=[], completed_at=None, content=[TextContentBlock(text=Text(annotations=[], value='Gere um gráfico de Pizza com o percentual dos meios de pagamento. O arquivo está em formato.csv'), type='text')], created_at=1753147797, incomplete_at=None, incomplete_details=None, metadata={}, object='thread.message', role='user', run_id=None, status=None, thread_id='thread_0I8iIMLnba7XSu460UGHsZsU'), Message(id='msg_3Q8d1Yi7vteEIvJ1hzMBAxvN', assistant_id=None, attachments=[], completed_at=None, content=[TextContentBlock(text=Text(annotations=[], value='Gere um gráfico de Pizza com o percentual dos meios de pagamento. O arquivo está em formato.csv'), type='text')], created_at=1753147763, incomplete_at=None, incomplete_details=None, metadata={}, object='thread.message', role='user', run_id=None, status=None, thread_id='thread_0I8iIMLnba7XSu460UGHsZsU'), Message(id='msg_aXrtuLE2mgtlwJmGagN4ZOdo', assistant_id='asst_AZjFVejnqkbbbxKLNvfDaRTY', attachments=[], completed_at=None, content=[TextContentBlock(text=Text(annotations=[], value='O rating médio das vendas do supermercado é aproximadamente 6.97.'), type='text')], created_at=1753146433, incomplete_at=None, incomplete_details=None, metadata={}, object='thread.message', role='assistant', run_id='run_pAoCpPWmTVe1l94pmpmopLW1', status=None, thread_id='thread_0I8iIMLnba7XSu460UGHsZsU'), Message(id='msg_vz92WIFw8FCR8qBT0aDIk2aZ', assistant_id='asst_AZjFVejnqkbbbxKLNvfDaRTY', attachments=[], completed_at=None, content=[TextContentBlock(text=Text(annotations=[], value='O arquivo parece ser um arquivo CSV sem uma extensão especificada. Ele contém as seguintes colunas: `Invoice ID`, `Branch`, `City`, `Customer type`, `Gender`, `Product line`, `Unit price`, `Quantity`, `Tax 5%`, `Total`, `Date`, `Time`, `Payment`, `cogs`, `gross margin percentage`, `gross income`, `Rating`.\\n\\nCom base nessas informações, agora posso ler o arquivo corretamente como um CSV e calcular o rating médio das vendas do supermercado. Vamos fazer isso a seguir.'), type='text')], created_at=1753146425, incomplete_at=None, incomplete_details=None, metadata={}, object='thread.message', role='assistant', run_id='run_pAoCpPWmTVe1l94pmpmopLW1', status=None, thread_id='thread_0I8iIMLnba7XSu460UGHsZsU'), Message(id='msg_TsMM687rSdUFLnHVpOCnulzy', assistant_id='asst_AZjFVejnqkbbbxKLNvfDaRTY', attachments=[], completed_at=None, content=[TextContentBlock(text=Text(annotations=[], value='Parece que houve um problema para ler o arquivo com os métodos comuns de leitura de CSV e Excel. Para investigar mais a fundo, precisarei tentar algumas abordagens adicionais para identificar o tipo de arquivo e como podemos acessar seus dados.\\n\\nVamos começar verificando a extensão do arquivo e, se necessário, tentando abrir o arquivo como um arquivo de texto simples para verificar o formato de seu conteúdo. Vou checar a extensão do arquivo e ler as primeiras linhas como texto, se possível.'), type='text')], created_at=1753146414, incomplete_at=None, incomplete_details=None, metadata={}, object='thread.message', role='assistant', run_id='run_pAoCpPWmTVe1l94pmpmopLW1', status=None, thread_id='thread_0I8iIMLnba7XSu460UGHsZsU'), Message(id='msg_N3OS7TWDhv7243IVogE1DhAG', assistant_id='asst_AZjFVejnqkbbbxKLNvfDaRTY', attachments=[], completed_at=None, content=[TextContentBlock(text=Text(annotations=[], value='Para responder à sua pergunta, preciso primeiro verificar o conteúdo do arquivo que você forneceu para identificar se ele contém informações sobre vendas e ratings de um supermercado.\\n\\nVou começar por abrir o arquivo e examinar os primeiros registros para entender o formato e o conteúdo dos dados.'), type='text')], created_at=1753146404, incomplete_at=None, incomplete_details=None, metadata={}, object='thread.message', role='assistant', run_id='run_pAoCpPWmTVe1l94pmpmopLW1', status=None, thread_id='thread_0I8iIMLnba7XSu460UGHsZsU'), Message(id='msg_B695MIXg1grZo2TSmVO0Io3D', assistant_id=None, attachments=[], completed_at=None, content=[TextContentBlock(text=Text(annotations=[], value='Qual é o rating médio das vendas do supermercado?'), type='text')], created_at=1753146328, incomplete_at=None, incomplete_details=None, metadata={}, object='thread.message', role='user', run_id=None, status=None, thread_id='thread_0I8iIMLnba7XSu460UGHsZsU')], has_more=False, object='list', first_id='msg_bi5WL1r69GDl9wCOdPwqgsFU', last_id='msg_B695MIXg1grZo2TSmVO0Io3D')\n"
     ]
    }
   ],
   "source": [
    "if run.status =='completed':\n",
    "    messages= client.beta.threads.messages.list(\n",
    "        thread_id=thread.id\n",
    "    )\n",
    "\n",
    "    print(messages)\n",
    "\n",
    "else:\n",
    "    print('Erro', run.status)"
   ]
  },
  {
   "cell_type": "code",
   "execution_count": 32,
   "id": "f7456a22",
   "metadata": {},
   "outputs": [
    {
     "name": "stdout",
     "output_type": "stream",
     "text": [
      "ImageFileContentBlock(image_file=ImageFile(file_id='file-2GVLJMgoX5mYXQHhAGoN4t', detail=None), type='image_file')\n"
     ]
    }
   ],
   "source": [
    "print(messages.data[0].content[0])"
   ]
  },
  {
   "cell_type": "markdown",
   "id": "3691b670",
   "metadata": {},
   "source": [
    "### Analisando os passos do modelo"
   ]
  },
  {
   "cell_type": "code",
   "execution_count": 33,
   "id": "5cee2757",
   "metadata": {},
   "outputs": [
    {
     "name": "stderr",
     "output_type": "stream",
     "text": [
      "C:\\Users\\chris\\AppData\\Local\\Temp\\ipykernel_11892\\687884520.py:1: DeprecationWarning: The Assistants API is deprecated in favor of the Responses API\n",
      "  run_steps= client.beta.threads.runs.steps.list(\n"
     ]
    }
   ],
   "source": [
    "run_steps= client.beta.threads.runs.steps.list(\n",
    "    thread_id=thread.id,\n",
    "    run_id=run.id\n",
    "    \n",
    ")\n",
    "\n",
    "\n"
   ]
  },
  {
   "cell_type": "code",
   "execution_count": 34,
   "id": "5c03200b",
   "metadata": {},
   "outputs": [
    {
     "data": {
      "text/plain": [
       "RunStep(id='step_w2jyWBoTmIN5WwVJd8nnU68q', assistant_id='asst_AZjFVejnqkbbbxKLNvfDaRTY', cancelled_at=None, completed_at=1753147820, created_at=1753147818, expired_at=None, failed_at=None, last_error=None, metadata=None, object='thread.run.step', run_id='run_osYwubScjayAO3mQZDaC6kll', status='completed', step_details=MessageCreationStepDetails(message_creation=MessageCreation(message_id='msg_bi5WL1r69GDl9wCOdPwqgsFU'), type='message_creation'), thread_id='thread_0I8iIMLnba7XSu460UGHsZsU', type='message_creation', usage=Usage(completion_tokens=68, prompt_tokens=1637, total_tokens=1705, prompt_token_details={'cached_tokens': 0}, completion_tokens_details={'reasoning_tokens': 0}), expires_at=None)"
      ]
     },
     "execution_count": 34,
     "metadata": {},
     "output_type": "execute_result"
    }
   ],
   "source": [
    "run_steps.data[0]"
   ]
  },
  {
   "cell_type": "code",
   "execution_count": 44,
   "id": "e0e96a7f",
   "metadata": {},
   "outputs": [
    {
     "name": "stdout",
     "output_type": "stream",
     "text": [
      "=== Step: message_creation\n",
      "=== Step: tool_calls\n",
      "-----------\n",
      "import matplotlib.pyplot as plt\n",
      "\n",
      "# Calcular a contagem de cada meio de pagamento\n",
      "payment_counts = df['Payment'].value_counts()\n",
      "\n",
      "# Calcular as porcentagens para cada meio de pagamento\n",
      "payment_percentage = payment_counts / payment_counts.sum() * 100\n",
      "\n",
      "# Criar o gráfico de pizza\n",
      "plt.figure(figsize=(8, 8))\n",
      "plt.pie(payment_percentage, labels=payment_percentage.index, autopct='%1.1f%%', startangle=140)\n",
      "plt.title('Percentual dos Meios de Pagamento')\n",
      "plt.axis('equal')  # Para garantir que o gráfico de pizza seja um círculo\n",
      "\n",
      "# Salvar a figura\n",
      "output_file_path = '/mnt/data/supermarket_payment_distribution_pie_chart.png'\n",
      "plt.savefig(output_file_path)\n",
      "\n",
      "# Mostrar o gráfico\n",
      "plt.show()\n",
      "\n",
      "# Retornar o caminho do arquivo onde o gráfico foi salvo\n",
      "output_file_path\n",
      "-----------\n",
      "Result\n"
     ]
    },
    {
     "ename": "FileNotFoundError",
     "evalue": "[Errno 2] No such file or directory: 'arquivos/file-2GVLJMgoX5mYXQHhAGoN4t.png'",
     "output_type": "error",
     "traceback": [
      "\u001b[1;31m---------------------------------------------------------------------------\u001b[0m",
      "\u001b[1;31mFileNotFoundError\u001b[0m                         Traceback (most recent call last)",
      "Cell \u001b[1;32mIn[44], line 22\u001b[0m\n\u001b[0;32m     20\u001b[0m file_id \u001b[38;5;241m=\u001b[39m message\u001b[38;5;241m.\u001b[39mcontent[\u001b[38;5;241m0\u001b[39m]\u001b[38;5;241m.\u001b[39mimage_file\u001b[38;5;241m.\u001b[39mfile_id\n\u001b[0;32m     21\u001b[0m image_data \u001b[38;5;241m=\u001b[39m client\u001b[38;5;241m.\u001b[39mfiles\u001b[38;5;241m.\u001b[39mcontent(file_id)\n\u001b[1;32m---> 22\u001b[0m \u001b[38;5;28;01mwith\u001b[39;00m \u001b[38;5;28;43mopen\u001b[39;49m\u001b[43m(\u001b[49m\u001b[38;5;124;43mf\u001b[39;49m\u001b[38;5;124;43m'\u001b[39;49m\u001b[38;5;124;43marquivos/\u001b[39;49m\u001b[38;5;132;43;01m{\u001b[39;49;00m\u001b[43mfile_id\u001b[49m\u001b[38;5;132;43;01m}\u001b[39;49;00m\u001b[38;5;124;43m.png\u001b[39;49m\u001b[38;5;124;43m'\u001b[39;49m\u001b[43m,\u001b[49m\u001b[43m \u001b[49m\u001b[38;5;124;43m'\u001b[39;49m\u001b[38;5;124;43mwb\u001b[39;49m\u001b[38;5;124;43m'\u001b[39;49m\u001b[43m)\u001b[49m \u001b[38;5;28;01mas\u001b[39;00m f:\n\u001b[0;32m     23\u001b[0m     f\u001b[38;5;241m.\u001b[39mwrite(image_data\u001b[38;5;241m.\u001b[39mread())\n\u001b[0;32m     24\u001b[0m     \u001b[38;5;28mprint\u001b[39m(\u001b[38;5;124mf\u001b[39m\u001b[38;5;124m'\u001b[39m\u001b[38;5;124mImagem \u001b[39m\u001b[38;5;132;01m{\u001b[39;00mfile_id\u001b[38;5;132;01m}\u001b[39;00m\u001b[38;5;124m salva com sucesso!\u001b[39m\u001b[38;5;124m'\u001b[39m)\n",
      "File \u001b[1;32mc:\\Users\\chris\\OneDrive\\Documentos\\Asimov_Academy\\AI_Agents\\venv\\lib\\site-packages\\IPython\\core\\interactiveshell.py:324\u001b[0m, in \u001b[0;36m_modified_open\u001b[1;34m(file, *args, **kwargs)\u001b[0m\n\u001b[0;32m    317\u001b[0m \u001b[38;5;28;01mif\u001b[39;00m file \u001b[38;5;129;01min\u001b[39;00m {\u001b[38;5;241m0\u001b[39m, \u001b[38;5;241m1\u001b[39m, \u001b[38;5;241m2\u001b[39m}:\n\u001b[0;32m    318\u001b[0m     \u001b[38;5;28;01mraise\u001b[39;00m \u001b[38;5;167;01mValueError\u001b[39;00m(\n\u001b[0;32m    319\u001b[0m         \u001b[38;5;124mf\u001b[39m\u001b[38;5;124m\"\u001b[39m\u001b[38;5;124mIPython won\u001b[39m\u001b[38;5;124m'\u001b[39m\u001b[38;5;124mt let you open fd=\u001b[39m\u001b[38;5;132;01m{\u001b[39;00mfile\u001b[38;5;132;01m}\u001b[39;00m\u001b[38;5;124m by default \u001b[39m\u001b[38;5;124m\"\u001b[39m\n\u001b[0;32m    320\u001b[0m         \u001b[38;5;124m\"\u001b[39m\u001b[38;5;124mas it is likely to crash IPython. If you know what you are doing, \u001b[39m\u001b[38;5;124m\"\u001b[39m\n\u001b[0;32m    321\u001b[0m         \u001b[38;5;124m\"\u001b[39m\u001b[38;5;124myou can use builtins\u001b[39m\u001b[38;5;124m'\u001b[39m\u001b[38;5;124m open.\u001b[39m\u001b[38;5;124m\"\u001b[39m\n\u001b[0;32m    322\u001b[0m     )\n\u001b[1;32m--> 324\u001b[0m \u001b[38;5;28;01mreturn\u001b[39;00m io_open(file, \u001b[38;5;241m*\u001b[39margs, \u001b[38;5;241m*\u001b[39m\u001b[38;5;241m*\u001b[39mkwargs)\n",
      "\u001b[1;31mFileNotFoundError\u001b[0m: [Errno 2] No such file or directory: 'arquivos/file-2GVLJMgoX5mYXQHhAGoN4t.png'"
     ]
    }
   ],
   "source": [
    "for step in run_steps.data:\n",
    "    print(\"=== Step:\", step.step_details.type)\n",
    "    if step.step_details.type == 'tool_calls':\n",
    "        for tool_call in step.step_details.tool_calls:\n",
    "            print(\"-----------\")\n",
    "            print(tool_call.code_interpreter.input)\n",
    "            print(\"-----------\")\n",
    "            print(\"Result\")\n",
    "            if tool_call.code_interpreter.outputs[0].type== 'logs':\n",
    "                print(tool_call.code_interpreter.outputs[0].logs)\n",
    "            if step.step_details.type == 'message_creation':\n",
    "                message = client.beta.threads.messages.retrieve(\n",
    "                thread_id=thread.id,\n",
    "                message_id=step.step_details.message_creation.message_id\n",
    "                )\n",
    "            if message.content[0].type == 'text':\n",
    "                print(message.content[0].text.value)\n",
    "\n",
    "            if message.content[0].type == 'image_file':\n",
    "                file_id = message.content[0].image_file.file_id\n",
    "                image_data = client.files.content(file_id)\n",
    "                with open(f'arquivos/{file_id}.png', 'wb') as f:\n",
    "                    f.write(image_data.read())\n",
    "                    print(f'Imagem {file_id} salva com sucesso!')\n",
    "                import matplotlib.pyplot as plt\n",
    "                import matplotlib.image as mpimg\n",
    "\n",
    "                img = mpimg.imread(f'arquivos/{file_id}.png')\n",
    "                fig, ax = plt.subplots()\n",
    "                ax.set_axis_off()\n",
    "                ax.imshow(img)\n",
    "                plt.show()\n",
    "\n",
    "            "
   ]
  }
 ],
 "metadata": {
  "kernelspec": {
   "display_name": "venv",
   "language": "python",
   "name": "python3"
  },
  "language_info": {
   "codemirror_mode": {
    "name": "ipython",
    "version": 3
   },
   "file_extension": ".py",
   "mimetype": "text/x-python",
   "name": "python",
   "nbconvert_exporter": "python",
   "pygments_lexer": "ipython3",
   "version": "3.10.7"
  }
 },
 "nbformat": 4,
 "nbformat_minor": 5
}
