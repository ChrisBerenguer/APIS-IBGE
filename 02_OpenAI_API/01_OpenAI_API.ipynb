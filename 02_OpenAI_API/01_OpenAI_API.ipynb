{
 "cells": [
  {
   "cell_type": "markdown",
   "metadata": {},
   "source": [
    "### Importando bibliotecas"
   ]
  },
  {
   "cell_type": "code",
   "execution_count": 1,
   "metadata": {},
   "outputs": [],
   "source": [
    "from openai import OpenAI\n",
    "from dotenv import load_dotenv  # Para carregar variáveis de ambiente de um arquivo .env\n",
    "import os  # Para acessar variáveis de ambiente do sistema"
   ]
  },
  {
   "cell_type": "code",
   "execution_count": 7,
   "metadata": {},
   "outputs": [],
   "source": [
    "client = OpenAI(api_key=openai_api_key)"
   ]
  },
  {
   "cell_type": "code",
   "execution_count": 8,
   "metadata": {},
   "outputs": [],
   "source": [
    "load_dotenv()\n",
    "openai_api_key = os.getenv(\"OPENAI_API_KEY\")\n",
    "if openai_api_key is None:\n",
    "    raise ValueError(\"A chave da API não foi encontrada no arquivo .env.\")\n",
    "\n"
   ]
  },
  {
   "cell_type": "code",
   "execution_count": 9,
   "metadata": {},
   "outputs": [],
   "source": [
    "mensagens = [{'role': 'user', 'content': 'O que é um CRUD resumidamente?' }]\n",
    "\n",
    "resposta = client.chat.completions.create(\n",
    "    messages=mensagens,\n",
    "    model='gpt-3.5-turbo-0125',\n",
    "    max_tokens=1000,\n",
    "    temperature=0\n",
    ")"
   ]
  },
  {
   "cell_type": "code",
   "execution_count": 17,
   "metadata": {},
   "outputs": [
    {
     "name": "stdout",
     "output_type": "stream",
     "text": [
      "CRUD é um acrônimo que significa Create, Read, Update e Delete. É um conjunto de operações básicas que podem ser realizadas em um banco de dados ou em qualquer sistema que envolva a manipulação de dados. \n",
      "\n",
      "- Create: criar novos registros ou dados no sistema.\n",
      "- Read: ler ou visualizar os registros existentes no sistema.\n",
      "- Update: atualizar ou modificar os registros existentes no sistema.\n",
      "- Delete: excluir ou remover os registros existentes no sistema. \n",
      "\n",
      "Essas operações são essenciais para a gestão e manipulação de dados em qualquer sistema de informação.\n"
     ]
    }
   ],
   "source": [
    "print(resposta.choices[0].message.content)"
   ]
  },
  {
   "cell_type": "markdown",
   "metadata": {},
   "source": [
    "### Few shoot Prompting"
   ]
  },
  {
   "cell_type": "code",
   "execution_count": 10,
   "metadata": {},
   "outputs": [],
   "source": [
    "mensagens.append({'role': 'user', 'content': resposta.choices[0].message.content})"
   ]
  },
  {
   "cell_type": "markdown",
   "metadata": {},
   "source": [
    "**Conteitos importantes:**\n",
    "\n",
    "'role':'user' ==> Resposta do usuário  ::::::::::::::::\n",
    "'role':'assistant' ==> Resposta do Agente | Usado para treinar respostas"
   ]
  },
  {
   "cell_type": "code",
   "execution_count": 11,
   "metadata": {},
   "outputs": [],
   "source": [
    "mensagens.append({'role':'user', 'content': 'E qual sua relação com Banco de Dados?'})"
   ]
  },
  {
   "cell_type": "code",
   "execution_count": 21,
   "metadata": {},
   "outputs": [],
   "source": [
    "resposta = client.chat.completions.create(\n",
    "    messages=mensagens,\n",
    "    model='gpt-3.5-turbo-0125',\n",
    "    max_tokens=1000,\n",
    "    temperature=0\n",
    ")"
   ]
  },
  {
   "cell_type": "code",
   "execution_count": 22,
   "metadata": {},
   "outputs": [
    {
     "name": "stdout",
     "output_type": "stream",
     "text": [
      "O CRUD está diretamente relacionado com bancos de dados, pois essas operações básicas são comumente utilizadas para manipular os dados armazenados em um banco de dados. \n",
      "\n",
      "- Create: Permite adicionar novos registros ou dados em tabelas do banco de dados.\n",
      "- Read: Permite consultar e visualizar os dados armazenados no banco de dados.\n",
      "- Update: Permite modificar ou atualizar os dados existentes no banco de dados.\n",
      "- Delete: Permite excluir registros ou dados do banco de dados.\n",
      "\n",
      "Essas operações são fundamentais para a interação e gerenciamento dos dados em um banco de dados, sendo amplamente utilizadas em sistemas de software que necessitam armazenar e manipular informações de forma eficiente.\n"
     ]
    }
   ],
   "source": [
    "print(resposta.choices[0].message.content)"
   ]
  },
  {
   "cell_type": "markdown",
   "metadata": {},
   "source": [
    "### Adicionando Função"
   ]
  },
  {
   "cell_type": "code",
   "execution_count": 23,
   "metadata": {},
   "outputs": [],
   "source": [
    "def geracao_texto(mensagens=mensagens, model='gpt-3.5-turbo-0125', max_tokens=1000, temperature=0):\n",
    "    resposta = client.chat.completions.create(\n",
    "        messages=mensagens,\n",
    "        model=model,\n",
    "        max_tokens=max_tokens,\n",
    "        temperature=temperature\n",
    "        \n",
    "    )\n",
    "    \n",
    "    print(resposta.choices[0].message.content)\n",
    "    mensagens.append({'role': 'user', 'content': 'E qual sua relação com banco de dados?'})\n",
    "    return mensagens"
   ]
  },
  {
   "cell_type": "code",
   "execution_count": 24,
   "metadata": {},
   "outputs": [
    {
     "name": "stdout",
     "output_type": "stream",
     "text": [
      "CRUD é um acrônimo que significa Create, Read, Update e Delete. É um conjunto de operações básicas que podem ser realizadas em um banco de dados ou em qualquer sistema que envolva a manipulação de dados. \n",
      "\n",
      "- Create: criar novos registros no banco de dados.\n",
      "- Read: ler e visualizar os registros existentes no banco de dados.\n",
      "- Update: atualizar ou modificar os registros existentes no banco de dados.\n",
      "- Delete: excluir registros do banco de dados. \n",
      "\n",
      "Essas operações são essenciais para a manipulação e gerenciamento de dados em sistemas de informação.\n"
     ]
    }
   ],
   "source": [
    "mensagens = [{'role': 'user', 'content': 'O que é um CRUD resumidamente?' }]\n",
    "mensagens = geracao_texto(mensagens)"
   ]
  },
  {
   "cell_type": "markdown",
   "metadata": {},
   "source": [
    "## Explorando Classe de respostas"
   ]
  },
  {
   "cell_type": "code",
   "execution_count": null,
   "metadata": {},
   "outputs": [],
   "source": [
    "mensagens = [{'role': 'user', 'content': 'O que é um CRUD resumidamente?' }]\n",
    "\n",
    "resposta = client.chat.completions.create(\n",
    "    messages=mensagens,\n",
    "    model='gpt-3.5-turbo-0125',\n",
    "    max_tokens=1000,\n",
    "    temperature=0\n",
    ")"
   ]
  },
  {
   "cell_type": "code",
   "execution_count": 25,
   "metadata": {},
   "outputs": [
    {
     "data": {
      "text/plain": [
       "CompletionUsage(completion_tokens=161, prompt_tokens=165, total_tokens=326, prompt_tokens_details={'cached_tokens': 0, 'audio_tokens': 0}, completion_tokens_details={'reasoning_tokens': 0, 'audio_tokens': 0, 'accepted_prediction_tokens': 0, 'rejected_prediction_tokens': 0})"
      ]
     },
     "execution_count": 25,
     "metadata": {},
     "output_type": "execute_result"
    }
   ],
   "source": [
    "resposta.usage # Exibir quantidade de tokens "
   ]
  }
 ],
 "metadata": {
  "kernelspec": {
   "display_name": "venv",
   "language": "python",
   "name": "python3"
  },
  "language_info": {
   "codemirror_mode": {
    "name": "ipython",
    "version": 3
   },
   "file_extension": ".py",
   "mimetype": "text/x-python",
   "name": "python",
   "nbconvert_exporter": "python",
   "pygments_lexer": "ipython3",
   "version": "3.10.7"
  }
 },
 "nbformat": 4,
 "nbformat_minor": 2
}
