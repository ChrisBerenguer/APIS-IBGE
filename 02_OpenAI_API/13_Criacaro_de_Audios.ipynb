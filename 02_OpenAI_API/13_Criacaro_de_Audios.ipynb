{
 "cells": [
  {
   "cell_type": "code",
   "execution_count": 1,
   "id": "c510984c",
   "metadata": {},
   "outputs": [],
   "source": [
    "import openai\n",
    "from dotenv import load_dotenv, find_dotenv\n",
    "\n",
    "\n",
    "_ = load_dotenv(find_dotenv())\n",
    "\n",
    "client = openai.Client()"
   ]
  },
  {
   "cell_type": "markdown",
   "id": "a905d733",
   "metadata": {},
   "source": [
    "Método 1"
   ]
  },
  {
   "cell_type": "code",
   "execution_count": 9,
   "id": "1bb65583",
   "metadata": {},
   "outputs": [],
   "source": [
    "arquivos = '/Users/chris/OneDrive/Documentos/Asimov_Academy/AI_Agents/02_OpenAI_API/fala.mp3'\n",
    "\n",
    "\n",
    "texto1 = '''\n",
    "\n",
    "Há muito tempo, o outrora próspero reino de DragonBurg — erguido entre os vales cinzentos e as montanhas escarlates — caiu nas mãos da traição. O sangue real, que há gerações mantinha a paz e a justiça, foi manchado por uma mentira, por um impostor que se fez rei sob o manto da falsidade. \n",
    "\n",
    "Você, jogador, é o herdeiro legítimo desse trono perdido. Mas hoje, o mundo ainda não conhece seu nome.'''\n",
    "\n",
    "texto2= '''\n",
    "\"Entre os murmúrios das tavernas e as páginas esquecidas dos cronistas, sussurra-se a lenda de uma lâmina ancestral: a Dragon Sword, forjada nas chamas do primeiro dragão e selada com a alma do verdadeiro rei. Dizem que ela só responde à linhagem real. Dizem… que com ela, o trono perdido pode ser reconquistado.\"\n",
    "\n",
    "E é então que os olhos do povo se voltam para uma figura solitária que cruza a estrada do norte…\n",
    "\n",
    "'''"
   ]
  },
  {
   "cell_type": "code",
   "execution_count": null,
   "id": "c0c4a434",
   "metadata": {},
   "outputs": [],
   "source": [
    "resposta = client.audio.speech.create(\n",
    "    model='tts-1',\n",
    "    voice='onyx',\n",
    "    input= texto1\n",
    "\n",
    ")\n",
    "\n",
    "resposta.write_to_file(arquivos)"
   ]
  },
  {
   "cell_type": "markdown",
   "id": "382746d9",
   "metadata": {},
   "source": [
    "Método 2 - O arquivo é gerado gradualmente via streaming"
   ]
  },
  {
   "cell_type": "code",
   "execution_count": 11,
   "id": "12dc51c0",
   "metadata": {},
   "outputs": [],
   "source": [
    "arquivos = '/Users/chris/OneDrive/Documentos/Asimov_Academy/AI_Agents/02_OpenAI_API/fala.mp3'\n",
    "\n",
    "with client.audio.speech.with_streaming_response.create(\n",
    "    model='tts-1',\n",
    "    voice='shimmer',\n",
    "    input= texto2\n",
    "\n",
    "\n",
    ") as resposta:\n",
    "    resposta.stream_to_file(arquivos)"
   ]
  }
 ],
 "metadata": {
  "kernelspec": {
   "display_name": "venv",
   "language": "python",
   "name": "python3"
  },
  "language_info": {
   "codemirror_mode": {
    "name": "ipython",
    "version": 3
   },
   "file_extension": ".py",
   "mimetype": "text/x-python",
   "name": "python",
   "nbconvert_exporter": "python",
   "pygments_lexer": "ipython3",
   "version": "3.10.7"
  }
 },
 "nbformat": 4,
 "nbformat_minor": 5
}
