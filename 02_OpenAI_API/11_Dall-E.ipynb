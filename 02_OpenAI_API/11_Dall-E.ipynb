{
 "cells": [
  {
   "cell_type": "markdown",
   "id": "fb24834b",
   "metadata": {},
   "source": [
    "Instalando bibliotecas\n"
   ]
  },
  {
   "cell_type": "code",
   "execution_count": 2,
   "id": "ed9df5fc",
   "metadata": {},
   "outputs": [],
   "source": [
    "import requests\n",
    "from PIL import Image\n"
   ]
  },
  {
   "cell_type": "code",
   "execution_count": 3,
   "id": "216d6f71",
   "metadata": {},
   "outputs": [],
   "source": [
    "import openai\n",
    "from dotenv import load_dotenv, find_dotenv\n",
    "\n",
    "\n",
    "_ = load_dotenv(find_dotenv())\n",
    "\n",
    "client = openai.Client()"
   ]
  },
  {
   "cell_type": "markdown",
   "id": "dd089aec",
   "metadata": {},
   "source": [
    "Criando imagens"
   ]
  },
  {
   "cell_type": "code",
   "execution_count": 15,
   "id": "14f0e188",
   "metadata": {},
   "outputs": [],
   "source": [
    "nome = 'favela'\n",
    "modelo = 'dall-e-3'\n",
    "prompt = 'Crie uma imagem de um menino lendo um livro em uma favela no Rio de Janeiro, \\\n",
    "    a imagem deve ser em estilo anime.'\n",
    "qualidade = 'hd'\n",
    "style = 'vivid'\n",
    "\n",
    "resposta = client.images.generate(\n",
    "    model=modelo,\n",
    "    prompt=prompt,\n",
    "    size='1024x1024',\n",
    "    quality=qualidade,\n",
    "    style=style,\n",
    "    n=1\n",
    ")\n"
   ]
  },
  {
   "cell_type": "code",
   "execution_count": 16,
   "id": "d9475530",
   "metadata": {},
   "outputs": [
    {
     "name": "stdout",
     "output_type": "stream",
     "text": [
      "Depict a South Asian young boy engrossed in a book in a densely populated urban neighborhood, situated on a hill, akin to the informal settlements in Rio de Janeiro. This scene should be interpreted in the style reminiscent of popular Japanese animation, filled with vibrant colors and exaggerated expressions.\n"
     ]
    }
   ],
   "source": [
    "print(resposta.data[0].revised_prompt)"
   ]
  },
  {
   "cell_type": "code",
   "execution_count": 12,
   "id": "80c0ccb2",
   "metadata": {},
   "outputs": [
    {
     "name": "stdout",
     "output_type": "stream",
     "text": [
      "https://oaidalleapiprodscus.blob.core.windows.net/private/org-N6fe9JXaAIovE9oO3HPcxbAi/user-jHDEzYyDLNs23zhOR2c7GRqx/img-tkArfOlCHlkXrwTmtJWMfyxW.png?st=2025-08-03T23%3A33%3A24Z&se=2025-08-04T01%3A33%3A24Z&sp=r&sv=2024-08-04&sr=b&rscd=inline&rsct=image/png&skoid=8b33a531-2df9-46a3-bc02-d4b1430a422c&sktid=a48cca56-e6da-484e-a814-9c849652bcb3&skt=2025-08-03T03%3A59%3A19Z&ske=2025-08-04T03%3A59%3A19Z&sks=b&skv=2024-08-04&sig=91p%2B1mJxjqcEHo40UV5t/IB1x/xDQTpAsCc4Lsi52Kk%3D\n"
     ]
    }
   ],
   "source": [
    "print(resposta.data[0].url)"
   ]
  },
  {
   "cell_type": "markdown",
   "id": "87520d97",
   "metadata": {},
   "source": [
    "salvando imagem"
   ]
  },
  {
   "cell_type": "code",
   "execution_count": 17,
   "id": "9da61e11",
   "metadata": {},
   "outputs": [],
   "source": [
    "nome_arquivo = f'/Users/chris/OneDrive/Documentos/Asimov_Academy/AI_Agents/02_OpenAI_API/{nome}_{modelo}_{qualidade}_{style}.png'\n",
    "\n",
    "imagem_url = resposta.data[0].url\n",
    "imagem_data = requests.get(imagem_url).content\n",
    "with open(nome_arquivo, 'wb') as f:\n",
    "    f.write(imagem_data)\n",
    "    "
   ]
  },
  {
   "cell_type": "markdown",
   "id": "b42c31c7",
   "metadata": {},
   "source": [
    "Exibindo imagme"
   ]
  },
  {
   "cell_type": "code",
   "execution_count": 18,
   "id": "98bb0ae5",
   "metadata": {},
   "outputs": [],
   "source": [
    "image = Image.open(nome_arquivo)\n",
    "image.show()"
   ]
  },
  {
   "cell_type": "markdown",
   "id": "dbac9056",
   "metadata": {},
   "source": [
    "Editando imagens"
   ]
  },
  {
   "cell_type": "markdown",
   "id": "ca092ac5",
   "metadata": {},
   "source": [
    "https://ai-image-editor.netlify.app/"
   ]
  },
  {
   "cell_type": "code",
   "execution_count": null,
   "id": "17d3b7fa",
   "metadata": {},
   "outputs": [],
   "source": [
    "resposta = client.images.edit(\n",
    "    model='dall-e-2',\n",
    "    image=open('arquivos/imagens/original.png', 'rb'),\n",
    "    mask=open('arquivos/imagens/mask.png', 'rb'),\n",
    "    prompt='Adicone uma vaca e um terneirinho na imagem fornecida',\n",
    "    n=1,\n",
    "    size='1024x1024'\n",
    ")"
   ]
  },
  {
   "cell_type": "code",
   "execution_count": null,
   "id": "ef3073ac",
   "metadata": {},
   "outputs": [],
   "source": [
    "nome_arquivo = 'arquivos/imagens/editada.png'\n",
    "\n",
    "image_url = resposta.data[0].url\n",
    "img_data = requests.get(image_url).content\n",
    "with open(nome_arquivo, 'wb') as f:\n",
    "    f.write(img_data)"
   ]
  },
  {
   "cell_type": "code",
   "execution_count": null,
   "id": "552cef6b",
   "metadata": {},
   "outputs": [],
   "source": [
    "image = Image.open(nome_arquivo)\n",
    "image.show()"
   ]
  },
  {
   "cell_type": "markdown",
   "id": "1b5c3ed5",
   "metadata": {},
   "source": [
    "Criando Variações"
   ]
  },
  {
   "cell_type": "code",
   "execution_count": null,
   "id": "e67328e6",
   "metadata": {},
   "outputs": [],
   "source": []
  }
 ],
 "metadata": {
  "kernelspec": {
   "display_name": "venv",
   "language": "python",
   "name": "python3"
  },
  "language_info": {
   "codemirror_mode": {
    "name": "ipython",
    "version": 3
   },
   "file_extension": ".py",
   "mimetype": "text/x-python",
   "name": "python",
   "nbconvert_exporter": "python",
   "pygments_lexer": "ipython3",
   "version": "3.10.7"
  }
 },
 "nbformat": 4,
 "nbformat_minor": 5
}
